{
  "nbformat": 4,
  "nbformat_minor": 0,
  "metadata": {
    "colab": {
      "name": "NeoHacks 2.0",
      "provenance": [],
      "collapsed_sections": [],
      "mount_file_id": "1mxSMi23K0X8y496A6zZYA8NM7_TLnxgb",
      "authorship_tag": "ABX9TyPmHvq1PTSpbAukpPeh2dY6",
      "include_colab_link": true
    },
    "kernelspec": {
      "name": "python3",
      "display_name": "Python 3"
    },
    "language_info": {
      "name": "python"
    },
    "accelerator": "GPU",
    "gpuClass": "standard"
  },
  "cells": [
    {
      "cell_type": "markdown",
      "metadata": {
        "id": "view-in-github",
        "colab_type": "text"
      },
      "source": [
        "<a href=\"https://colab.research.google.com/github/derek-byte/NeoHacks-2.0/blob/main/model.ipynb\" target=\"_parent\"><img src=\"https://colab.research.google.com/assets/colab-badge.svg\" alt=\"Open In Colab\"/></a>"
      ]
    },
    {
      "cell_type": "markdown",
      "source": [
        "Leaf Health Classification"
      ],
      "metadata": {
        "id": "_EpJfcOgcDeW"
      }
    },
    {
      "cell_type": "markdown",
      "source": [
        "Dataset: https://www.kaggle.com/datasets/prasanshasatpathy/leaves-healthy-or-diseased?resource=download"
      ],
      "metadata": {
        "id": "_rF9sFRbABZW"
      }
    },
    {
      "cell_type": "code",
      "execution_count": 1,
      "metadata": {
        "id": "NRJKnoNaVBkN"
      },
      "outputs": [],
      "source": [
        "import tensorflow as tf\n",
        "import tensorflow_hub as hub\n",
        "import os\n",
        "from keras.models import Sequential\n",
        "from tensorflow.keras.layers import Dense, Flatten, Conv2D, Dropout, MaxPooling2D\n",
        "from tensorflow.keras import Model\n",
        "from tensorflow.keras.preprocessing.image import ImageDataGenerator\n",
        "from tensorflow.keras.optimizers import Adam"
      ]
    },
    {
      "cell_type": "code",
      "source": [
        "from google.colab import drive\n",
        "drive.mount('/content/drive')"
      ],
      "metadata": {
        "id": "mFI5D4-5a5jU"
      },
      "execution_count": null,
      "outputs": []
    },
    {
      "cell_type": "code",
      "source": [
        "data_dir='/content/drive/MyDrive/archive/leaves_healthy_or_diseased'\n",
        "labels = ['Healthy', 'Diseased']\n",
        "print(\"class :\", labels[0], \",\", labels[1])"
      ],
      "metadata": {
        "colab": {
          "base_uri": "https://localhost:8080/"
        },
        "id": "cAl_JLWMcLtL",
        "outputId": "865ae700-95c4-43b3-db03-97b90a8883f6"
      },
      "execution_count": 4,
      "outputs": [
        {
          "output_type": "stream",
          "name": "stdout",
          "text": [
            "class : Healthy , Diseased\n"
          ]
        }
      ]
    },
    {
      "cell_type": "code",
      "source": [
        "IMAGE_SIZE = (224, 224)\n",
        "BATCH_SIZE = 16"
      ],
      "metadata": {
        "id": "q9Mjkfesz-lR"
      },
      "execution_count": 5,
      "outputs": []
    },
    {
      "cell_type": "code",
      "source": [
        "train_datagen = tf.keras.preprocessing.image.ImageDataGenerator(\n",
        "      rescale = 1./255,\n",
        "      rotation_range=50,\n",
        "      horizontal_flip=True,\n",
        "      width_shift_range=0.2, \n",
        "      height_shift_range=0.2,\n",
        "      shear_range=0.2, \n",
        "      zoom_range=0.2,\n",
        "      fill_mode='nearest',\n",
        "      validation_split=0.3)\n",
        "  \n",
        "train_generator = train_datagen.flow_from_directory(\n",
        "    data_dir, \n",
        "    subset=\"training\", \n",
        "    shuffle=True, \n",
        "    seed=42,\n",
        "    color_mode=\"rgb\", \n",
        "    class_mode=\"categorical\",\n",
        "    target_size=IMAGE_SIZE,\n",
        "    batch_size=BATCH_SIZE)\n",
        "validation_generator = train_datagen.flow_from_directory(\n",
        "    data_dir, \n",
        "    shuffle=False, \n",
        "    seed=42,\n",
        "    color_mode=\"rgb\", \n",
        "    class_mode=\"categorical\",\n",
        "    subset=\"validation\",\n",
        "    target_size=IMAGE_SIZE,\n",
        "    batch_size=BATCH_SIZE)"
      ],
      "metadata": {
        "colab": {
          "base_uri": "https://localhost:8080/"
        },
        "id": "kVcdC__gzhlF",
        "outputId": "825b8c0f-d5e7-44ed-95db-fb69dd113d6b"
      },
      "execution_count": 6,
      "outputs": [
        {
          "output_type": "stream",
          "name": "stdout",
          "text": [
            "Found 3152 images belonging to 2 classes.\n",
            "Found 1350 images belonging to 2 classes.\n"
          ]
        }
      ]
    },
    {
      "cell_type": "code",
      "source": [
        "# split data \n",
        "import numpy as np\n",
        "from matplotlib import pyplot as plt\n",
        "\n",
        "data = tf.keras.utils.image_dataset_from_directory('data')\n",
        "data_iterator = data.as_numpy_iterator()\n",
        "batch = data_iterator.next()\n",
        "\n",
        "# print(len(data_dir))\n",
        "\n",
        "data = data.map(lambda x,y: (x/255, y))\n",
        "\n",
        "train_size = int(len(data_dir) * .7)\n",
        "val_size = int(len(data_dir) * .15) + 1\n",
        "test_size = int(len(data_dir) * .15) + 1"
      ],
      "metadata": {
        "colab": {
          "base_uri": "https://localhost:8080/"
        },
        "id": "tey10oEo1PNg",
        "outputId": "73053f58-d252-43fb-b150-2078977aea08"
      },
      "execution_count": 30,
      "outputs": [
        {
          "output_type": "stream",
          "name": "stdout",
          "text": [
            "57\n"
          ]
        }
      ]
    },
    {
      "cell_type": "code",
      "source": [
        "train_batches = data_dir.take(train_size)\n",
        "val_batches = data_dir.skip(train_size).take(val_size)\n",
        "test_batches = data_dir.skip(train_size+val_size).take(test_size)"
      ],
      "metadata": {
        "id": "gdfTcaOO1_AJ"
      },
      "execution_count": null,
      "outputs": []
    },
    {
      "cell_type": "markdown",
      "source": [
        "MobileNet V2 Architechture:\n",
        "* ![download.png](data:image/png;base64,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)"
      ],
      "metadata": {
        "id": "R4BRVrox0eQK"
      }
    },
    {
      "cell_type": "code",
      "source": [
        "# Mobilenet V2\n",
        "URL = \"https://tfhub.dev/google/tf2-preview/mobilenet_v2/feature_vector/2\"\n",
        "feature_extractor = hub.KerasLayer(URL,\n",
        "                                   input_shape=(224, 224, 3), output_shape=[1280])\n",
        "model = Sequential([\n",
        "    feature_extractor,\n",
        "    Flatten(),\n",
        "    Dense(512, activation='relu'),\n",
        "    Dropout(0.2),\n",
        "    Dense(2, activation = \"softmax\")\n",
        "])"
      ],
      "metadata": {
        "id": "ywu34r70c_BF"
      },
      "execution_count": 11,
      "outputs": []
    },
    {
      "cell_type": "code",
      "source": [
        "model.summary()"
      ],
      "metadata": {
        "id": "E0NGac0VdoKc",
        "colab": {
          "base_uri": "https://localhost:8080/"
        },
        "outputId": "0e4fb138-fe74-4c41-d0a6-850506487248"
      },
      "execution_count": 12,
      "outputs": [
        {
          "output_type": "stream",
          "name": "stdout",
          "text": [
            "Model: \"sequential_1\"\n",
            "_________________________________________________________________\n",
            " Layer (type)                Output Shape              Param #   \n",
            "=================================================================\n",
            " keras_layer_1 (KerasLayer)  (None, 1280)              2257984   \n",
            "                                                                 \n",
            " flatten_1 (Flatten)         (None, 1280)              0         \n",
            "                                                                 \n",
            " dense_2 (Dense)             (None, 512)               655872    \n",
            "                                                                 \n",
            " dropout_1 (Dropout)         (None, 512)               0         \n",
            "                                                                 \n",
            " dense_3 (Dense)             (None, 2)                 1026      \n",
            "                                                                 \n",
            "=================================================================\n",
            "Total params: 2,914,882\n",
            "Trainable params: 656,898\n",
            "Non-trainable params: 2,257,984\n",
            "_________________________________________________________________\n"
          ]
        }
      ]
    },
    {
      "cell_type": "code",
      "source": [
        "model.compile(\n",
        "    optimizer=tf.keras.optimizers.Adam(learning_rate=0.001), \n",
        "    loss='categorical_crossentropy', \n",
        "    metrics=['accuracy'])"
      ],
      "metadata": {
        "id": "UNkQvgdxdpxr"
      },
      "execution_count": 13,
      "outputs": []
    },
    {
      "cell_type": "code",
      "source": [
        "history = model.fit(\n",
        "    train_generator, \n",
        "    validation_data=validation_generator, \n",
        "    epochs=10, \n",
        "    validation_steps=validation_generator.samples//validation_generator.batch_size)"
      ],
      "metadata": {
        "id": "g2J1Q2V-d4gT",
        "colab": {
          "base_uri": "https://localhost:8080/"
        },
        "outputId": "1609faf3-783f-45e4-ff34-c3bd28b6fa76"
      },
      "execution_count": 14,
      "outputs": [
        {
          "output_type": "stream",
          "name": "stdout",
          "text": [
            "Epoch 1/10\n",
            "197/197 [==============================] - 1341s 7s/step - loss: 0.3746 - accuracy: 0.8303 - val_loss: 0.4900 - val_accuracy: 0.7641\n",
            "Epoch 2/10\n",
            "197/197 [==============================] - 1330s 7s/step - loss: 0.2936 - accuracy: 0.8763 - val_loss: 0.3598 - val_accuracy: 0.8237\n",
            "Epoch 3/10\n",
            "197/197 [==============================] - 1326s 7s/step - loss: 0.2324 - accuracy: 0.8975 - val_loss: 0.4679 - val_accuracy: 0.8095\n",
            "Epoch 4/10\n",
            "197/197 [==============================] - 1327s 7s/step - loss: 0.2456 - accuracy: 0.8934 - val_loss: 0.4092 - val_accuracy: 0.7939\n",
            "Epoch 5/10\n",
            "197/197 [==============================] - 1332s 7s/step - loss: 0.2088 - accuracy: 0.9156 - val_loss: 0.4359 - val_accuracy: 0.8036\n",
            "Epoch 6/10\n",
            "197/197 [==============================] - 1335s 7s/step - loss: 0.2137 - accuracy: 0.9137 - val_loss: 0.4242 - val_accuracy: 0.8110\n",
            "Epoch 7/10\n",
            "197/197 [==============================] - 1342s 7s/step - loss: 0.2046 - accuracy: 0.9093 - val_loss: 0.3849 - val_accuracy: 0.8318\n",
            "Epoch 8/10\n",
            "197/197 [==============================] - 1338s 7s/step - loss: 0.2032 - accuracy: 0.9159 - val_loss: 0.3218 - val_accuracy: 0.8571\n",
            "Epoch 9/10\n",
            "197/197 [==============================] - 1336s 7s/step - loss: 0.1929 - accuracy: 0.9204 - val_loss: 0.4250 - val_accuracy: 0.8199\n",
            "Epoch 10/10\n",
            "197/197 [==============================] - 1342s 7s/step - loss: 0.1992 - accuracy: 0.9194 - val_loss: 0.4164 - val_accuracy: 0.7976\n"
          ]
        }
      ]
    },
    {
      "cell_type": "code",
      "source": [
        "import matplotlib.pyplot as plt\n",
        "\n",
        "fig = plt.figure()\n",
        "plt.plot(history.history['loss'], color='teal', label='loss')\n",
        "plt.plot(history.history['val_loss'], color='orange', label='val_loss')\n",
        "fig.suptitle('Loss', fontsize=20)\n",
        "plt.legend(loc=\"upper right\")\n",
        "plt.show()"
      ],
      "metadata": {
        "colab": {
          "base_uri": "https://localhost:8080/",
          "height": 294
        },
        "id": "fIXsuKT9cDIp",
        "outputId": "e62f413c-f473-4c17-c3ce-f4a50db0f9fc"
      },
      "execution_count": 16,
      "outputs": [
        {
          "output_type": "display_data",
          "data": {
            "text/plain": [
              "<Figure size 432x288 with 1 Axes>"
            ],
            "image/png": "[encoded data removed]"
          },
          "metadata": {
            "needs_background": "light"
          }
        }
      ]
    },
    {
      "cell_type": "code",
      "source": [
        "fig = plt.figure()\n",
        "plt.plot(history.history['accuracy'], color='teal', label='accuracy')\n",
        "plt.plot(history.history['val_accuracy'], color='orange', label='val_accuracy')\n",
        "fig.suptitle('Accuracy', fontsize=20)\n",
        "plt.legend(loc=\"upper right\")\n",
        "plt.show()"
      ],
      "metadata": {
        "colab": {
          "base_uri": "https://localhost:8080/",
          "height": 294
        },
        "id": "PonywMdDcBby",
        "outputId": "7de20fa6-f708-4984-8b28-4393389e9857"
      },
      "execution_count": 17,
      "outputs": [
        {
          "output_type": "display_data",
          "data": {
            "text/plain": [
              "<Figure size 432x288 with 1 Axes>"
            ],
            "image/png": "[encoded data removed]"
          },
          "metadata": {
            "needs_background": "light"
          }
        }
      ]
    },
    {
      "cell_type": "code",
      "source": [
        "# Save model\n",
        "import time\n",
        "t = time.time()\n",
        "export_path = \"/content/drive/MyDrive/Leaf-Classification-2\".format(int(t))\n",
        "tf.keras.models.save_model(model, export_path)\n",
        "export_path"
      ],
      "metadata": {
        "colab": {
          "base_uri": "https://localhost:8080/",
          "height": 73
        },
        "id": "2gk1m1spclkT",
        "outputId": "30a1b424-9948-4478-9be8-80e285360e0d"
      },
      "execution_count": 19,
      "outputs": [
        {
          "output_type": "stream",
          "name": "stdout",
          "text": [
            "INFO:tensorflow:Assets written to: /content/drive/MyDrive/Leaf-Classification-2/assets\n"
          ]
        },
        {
          "output_type": "stream",
          "name": "stderr",
          "text": [
            "INFO:tensorflow:Assets written to: /content/drive/MyDrive/Leaf-Classification-2/assets\n"
          ]
        },
        {
          "output_type": "execute_result",
          "data": {
            "text/plain": [
              "'/content/drive/MyDrive/Leaf-Classification-2'"
            ],
            "application/vnd.google.colaboratory.intrinsic+json": {
              "type": "string"
            }
          },
          "metadata": {},
          "execution_count": 19
        }
      ]
    },
    {
      "cell_type": "code",
      "source": [
        "!pip install streamlit\n",
        "!pip install streamlit-option-menu"
      ],
      "metadata": {
        "colab": {
          "base_uri": "https://localhost:8080/"
        },
        "id": "Qq2J3UUlcbP9",
        "outputId": "98da6743-bc3e-4fb7-ce59-de8eefa37788"
      },
      "execution_count": 1,
      "outputs": [
        {
          "output_type": "stream",
          "name": "stdout",
          "text": [
            "Installing collected packages: streamlit-option-menu\n",
            "Successfully installed streamlit-option-menu-0.3.2\n"
          ]
        }
      ]
    },
    {
      "cell_type": "code",
      "source": [
        "!pip install pyngrok"
      ],
      "metadata": {
        "colab": {
          "base_uri": "https://localhost:8080/"
        },
        "id": "8y9wHi5kccOs",
        "outputId": "eec114b1-c156-472b-ef70-784f7270d543"
      },
      "execution_count": 2,
      "outputs": [
        {
          "output_type": "stream",
          "name": "stdout",
          "text": [
            "\u001b[?25hRequirement already satisfied: PyYAML in /usr/local/lib/python3.7/dist-packages (from pyngrok) (3.13)\n",
            "Building wheels for collected packages: pyngrok\n",
            "  Building wheel for pyngrok (setup.py) ... \u001b[?25l\u001b[?25hdone\n",
            "  Created wheel for pyngrok: filename=pyngrok-5.1.0-py3-none-any.whl size=19007 sha256=6186194556cd71dc8dea28c8444ebf3a0ef145fe2136e66d9475b7eb0dc9534d\n",
            "  Stored in directory: /root/.cache/pip/wheels/bf/e6/af/ccf6598ecefecd44104069371795cb9b3afbcd16987f6ccfb3\n",
            "Successfully built pyngrok\n",
            "Installing collected packages: pyngrok\n",
            "Successfully installed pyngrok-5.1.0\n"
          ]
        }
      ]
    },
    {
      "cell_type": "code",
      "source": [
        "!ngrok authtoken "
      ],
      "metadata": {
        "colab": {
          "base_uri": "https://localhost:8080/"
        },
        "id": "inwj83eUcdO_",
        "outputId": "32e23132-6a96-434d-f70b-0ff097316d5d"
      },
      "execution_count": 3,
      "outputs": [
        {
          "output_type": "stream",
          "name": "stdout",
          "text": [
            "Authtoken saved to configuration file: /root/.ngrok2/ngrok.yml\n"
          ]
        }
      ]
    },
    {
      "cell_type": "code",
      "source": [
        "!pip install gspread-pandas"
      ],
      "metadata": {
        "id": "gHl-o9wsEkN0"
      },
      "execution_count": null,
      "outputs": []
    },
    {
      "cell_type": "code",
      "source": [
        "%%writefile app.py\n",
        "\n",
        "import streamlit as st\n",
        "import cv2\n",
        "import numpy as np\n",
        "import tensorflow as tf\n",
        "from tensorflow.keras.preprocessing import image \n",
        "from tensorflow.keras.applications.mobilenet_v2 import MobileNetV2, preprocess_input as mobile \n",
        "import tensorflow_hub as hub\n",
        "import matplotlib.pylab as plt\n",
        "import os\n",
        "import random\n",
        "import calendar \n",
        "from datetime import datetime\n",
        "from streamlit_option_menu import option_menu\n",
        "\n",
        "labels = ['Healthy', 'Diseased']\n",
        "years = [datetime.today().year]\n",
        "months = list(calendar.month_name[1:])\n",
        "result = \"\"\n",
        "# ages = [range(0:10)]\n",
        "\n",
        "hide_st_style = \"\"\"\n",
        "              <style>\n",
        "                #MainMenu {visibility: hidden;}\n",
        "                footer {visibility: hidden;}\n",
        "                header {visibility: hidden;}\n",
        "                backgroundColor: \"blue\"\n",
        "              </style>\n",
        "                \"\"\"\n",
        "st.markdown(hide_st_style, unsafe_allow_html=True)\n",
        "\n",
        "page_icon = \":seedling:\"\n",
        "\n",
        "st.title(\"Smart Greens\" + \" \" + page_icon)\n",
        "\n",
        "# NAVIGATION \n",
        "selected = option_menu(\n",
        "  menu_title = None,\n",
        "  options = [\"Data Entry\", \"Logs\"],\n",
        "  icons = [\"pencil-fill\", \"bar-chart-fill\"],\n",
        "  orientation = \"horizontal\"\n",
        ")\n",
        "\n",
        "from PIL import Image, ImageOps\n",
        "@st.cache\n",
        "def load_image(image_file):\n",
        "  img = Image.open(image_file)\n",
        "  return img\n",
        "\n",
        "def upload(filename):\n",
        "    img = cv2.imread(filename)\n",
        "    img = cv2.resize(img, (224, 224) )\n",
        "    img = img /255\n",
        "    return img\n",
        "\n",
        "path = \"/content/drive/MyDrive/Leaf-Classification\"\n",
        "reloaded = tf.keras.models.load_model(path, custom_objects={'KerasLayer':hub.KerasLayer})\n",
        "def predict_reload(image):\n",
        "    probabilities = reloaded.predict(np.asarray([img]))[0]\n",
        "    class_idx = np.argmax(probabilities)\n",
        "    return {labels[class_idx]: probabilities[class_idx]}\n",
        "\n",
        "if selected == \"Data Entry\": \n",
        "  st.header(\"Health Check\")\n",
        "  uploaded_file = st.file_uploader(\"Choose an image file\", type=[\"png\", \"jpeg\", \"jpg\", \"svg\"])\n",
        "\n",
        "  if uploaded_file is not None:\n",
        "    # Convert the file to an opencv image\n",
        "    file_bytes = np.asarray(bytearray(uploaded_file.read()),dtype=np.uint8)\n",
        "    opencv_image = cv2.imdecode(file_bytes, 1)\n",
        "    opencv_image = cv2.cvtColor(opencv_image, cv2.COLOR_BGR2RGB)\n",
        "    resized = cv2.resize(opencv_image, (224,224))\n",
        "    st.image(load_image(uploaded_file), width=224)\n",
        "\n",
        "    # Saving File\n",
        "    complete_path = os.path.join(\"/content/Leaf_Images\", uploaded_file.name)\n",
        "\n",
        "    # CREATE THIS FILE SOURCE EVERYTIME ON GOOGLE COLAB\n",
        "    with open(complete_path, \"wb\") as f:\n",
        "      f.write(uploaded_file.getbuffer())\n",
        "    st.success(\"File Saved\")\n",
        "\n",
        "    train_datagen = tf.keras.preprocessing.image.ImageDataGenerator(\n",
        "        rescale = 1./255,\n",
        "        rotation_range=40,\n",
        "        horizontal_flip=True,\n",
        "        width_shift_range=0.2, \n",
        "        height_shift_range=0.2,\n",
        "        shear_range=0.2, \n",
        "        zoom_range=0.2,\n",
        "        fill_mode='nearest',\n",
        "        validation_split=0.3)\n",
        "    \n",
        "    validation_generator = train_datagen.flow_from_directory(\n",
        "      \"/content/Leaf_Images\", \n",
        "      color_mode=\"rgb\", \n",
        "      shuffle=False, \n",
        "      seed=None,\n",
        "      class_mode=\"categorical\",\n",
        "      subset=\"validation\",\n",
        "      target_size=(224,224),\n",
        "      batch_size=1)\n",
        "\n",
        "    img = upload(complete_path)\n",
        "    prediction = predict_reload(img)\n",
        "    result = list(prediction.keys())[0]\n",
        "    st.success(\"PREDICTED: class: %s, confidence: %f\" % (list(prediction.keys())[0], list(prediction.values())[0]))\n",
        "\n",
        "  # INPUT \n",
        "  st.header(\"List New Plant\")\n",
        "  with st.form(\"entry_form\", clear_on_submit=True):\n",
        "    col1, col2, = st.columns(2)\n",
        "    col1.selectbox(\"Select Month:\", months, key=\"month\")\n",
        "    col2.selectbox(\"Select Year:\", years, key=\"year\")\n",
        "\n",
        "    \"---\"\n",
        "\n",
        "    # with st.expander(\"Age\"):\n",
        "    #  comment = st.number_input(f\"{income}:\", min_value=0, format=\"%i\", step=10, key=income)\n",
        "    with st.expander(\"Name\"):\n",
        "      comment = st.text_area(\"\", placeholder=\"Enter a name...\", key=\"name\")\n",
        "    with st.expander(\"Comment\"):\n",
        "      comment = st.text_area(\"\", placeholder=\"Enter a comment here...\", key=\"comment\")\n",
        "\n",
        "    \"---\"\n",
        "    submitted = st.form_submit_button(\"Save Data\")\n",
        "    if submitted:\n",
        "      period = str(st.session_state[\"year\"]) + \"_\" + str(st.session_state[\"month\"])\n",
        "      st.success(\"Data Saved\")\n",
        "\n",
        "else: \n",
        "  st.header(\"Logs\")\n",
        "  time = str(st.session_state[\"year\"]) + \"_\" + str(st.session_state[\"month\"])\n",
        "  name = str(st.session_state[\"name\"])\n",
        "  comment = str(st.session_state[\"comment\"])\n",
        "  # if result != undefined:\n",
        "  #  health = result\n",
        "\n",
        "  st.write(f\"Name: {name}\")\n",
        "  st.write(f\"Time: {time}\")\n",
        "  st.write(f\"Comments: {comment}\")\n",
        "  st.write(f\"Health Check Result: {result}\")\n"
      ],
      "metadata": {
        "colab": {
          "base_uri": "https://localhost:8080/"
        },
        "id": "lRfQS-BMced8",
        "outputId": "e2fced70-26c6-42af-839d-5923445dd40a"
      },
      "execution_count": 21,
      "outputs": [
        {
          "output_type": "stream",
          "name": "stdout",
          "text": [
            "Overwriting app.py\n"
          ]
        }
      ]
    },
    {
      "cell_type": "code",
      "source": [
        "from pyngrok import ngrok\n",
        "# Setup a tunnel to the streamlit port 8501\n",
        "public_url = ngrok.connect(port='80')\n",
        "print(public_url)\n",
        "!streamlit run --server.port 80 app.py >/dev/null"
      ],
      "metadata": {
        "colab": {
          "base_uri": "https://localhost:8080/"
        },
        "id": "c91tAWABch7X",
        "outputId": "9f58a330-9380-42cb-cfee-9d833068c2e1"
      },
      "execution_count": null,
      "outputs": [
        {
          "output_type": "stream",
          "name": "stdout",
          "text": [
            "NgrokTunnel: \"http://3f02-34-125-127-56.ngrok.io\" -> \"http://localhost:80\"\n",
            "2022-08-07 21:19:00.954 INFO    numexpr.utils: NumExpr defaulting to 2 threads.\n"
          ]
        },
        {
          "output_type": "stream",
          "name": "stderr",
          "text": [
            "t=2022-08-07T21:19:02+0000 lvl=warn msg=\"failed to open private leg\" id=0ee2cd8a953f privaddr=localhost:80 err=\"dial tcp 127.0.0.1:80: connect: connection refused\"\n",
            "t=2022-08-07T21:19:03+0000 lvl=warn msg=\"failed to open private leg\" id=55b2d4a150ac privaddr=localhost:80 err=\"dial tcp 127.0.0.1:80: connect: connection refused\"\n"
          ]
        },
        {
          "output_type": "stream",
          "name": "stdout",
          "text": [
            "2022-08-07 21:19:10.392007: E tensorflow/stream_executor/cuda/cuda_driver.cc:271] failed call to cuInit: CUDA_ERROR_NO_DEVICE: no CUDA-capable device is detected\n",
            "2022-08-07 21:19:10.402 Using /tmp/tfhub_modules to cache modules.\n"
          ]
        }
      ]
    },
    {
      "cell_type": "code",
      "source": [
        "!pgrep streamlit"
      ],
      "metadata": {
        "id": "jvcTgoVrckbx"
      },
      "execution_count": 6,
      "outputs": []
    }
  ]
}